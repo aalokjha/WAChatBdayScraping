{
 "cells": [
  {
   "cell_type": "code",
   "execution_count": 77,
   "metadata": {},
   "outputs": [],
   "source": [
    "import pandas as pd\n",
    "import numpy as np\n",
    "import os\n",
    "import re"
   ]
  },
  {
   "cell_type": "code",
   "execution_count": 78,
   "metadata": {},
   "outputs": [
    {
     "data": {
      "text/plain": [
       "'C:\\\\Users\\\\alokranjan\\\\Documents\\\\leanpy'"
      ]
     },
     "execution_count": 78,
     "metadata": {},
     "output_type": "execute_result"
    }
   ],
   "source": [
    "os.getcwd()"
   ]
  },
  {
   "cell_type": "code",
   "execution_count": 79,
   "metadata": {},
   "outputs": [],
   "source": [
    "path = r'C:\\Users\\alokranjan\\Documents\\leanpy'"
   ]
  },
  {
   "cell_type": "code",
   "execution_count": 80,
   "metadata": {},
   "outputs": [],
   "source": [
    "import os\n",
    "os.chdir(path)"
   ]
  },
  {
   "cell_type": "code",
   "execution_count": 81,
   "metadata": {},
   "outputs": [
    {
     "data": {
      "text/plain": [
       "'C:\\\\Users\\\\alokranjan\\\\Documents\\\\leanpy'"
      ]
     },
     "execution_count": 81,
     "metadata": {},
     "output_type": "execute_result"
    }
   ],
   "source": [
    "os.getcwd()"
   ]
  },
  {
   "cell_type": "code",
   "execution_count": 10,
   "metadata": {},
   "outputs": [
    {
     "name": "stdout",
     "output_type": "stream",
     "text": [
      "Collecting xlrd\n",
      "  Downloading https://files.pythonhosted.org/packages/b0/16/63576a1a001752e34bf8ea62e367997530dc553b689356b9879339cf45a4/xlrd-1.2.0-py2.py3-none-any.whl (103kB)\n",
      "Installing collected packages: xlrd\n",
      "Successfully installed xlrd-1.2.0\n",
      "Note: you may need to restart the kernel to use updated packages.\n"
     ]
    },
    {
     "name": "stderr",
     "output_type": "stream",
     "text": [
      "WARNING: You are using pip version 19.2.3, however version 20.1 is available.\n",
      "You should consider upgrading via the 'python -m pip install --upgrade pip' command.\n"
     ]
    }
   ],
   "source": [
    "#Install xlrd module to read xl file\n",
    "%pip install xlrd -U"
   ]
  },
  {
   "cell_type": "code",
   "execution_count": 82,
   "metadata": {},
   "outputs": [],
   "source": [
    "#Read the excel file. You would need xlrd module for this\n",
    "df = pd.read_excel('WAChatPFM03.xlsx')"
   ]
  },
  {
   "cell_type": "code",
   "execution_count": 83,
   "metadata": {},
   "outputs": [
    {
     "data": {
      "text/html": [
       "<div>\n",
       "<style scoped>\n",
       "    .dataframe tbody tr th:only-of-type {\n",
       "        vertical-align: middle;\n",
       "    }\n",
       "\n",
       "    .dataframe tbody tr th {\n",
       "        vertical-align: top;\n",
       "    }\n",
       "\n",
       "    .dataframe thead th {\n",
       "        text-align: right;\n",
       "    }\n",
       "</style>\n",
       "<table border=\"1\" class=\"dataframe\">\n",
       "  <thead>\n",
       "    <tr style=\"text-align: right;\">\n",
       "      <th></th>\n",
       "      <th>Date</th>\n",
       "      <th>Texter</th>\n",
       "      <th>Content</th>\n",
       "    </tr>\n",
       "  </thead>\n",
       "  <tbody>\n",
       "    <tr>\n",
       "      <th>0</th>\n",
       "      <td>10/27/18, 5:01 PM</td>\n",
       "      <td>Alok Ranjan</td>\n",
       "      <td>&lt;Media omitted&gt;</td>\n",
       "    </tr>\n",
       "    <tr>\n",
       "      <th>1</th>\n",
       "      <td>10/27/18, 5:01 PM</td>\n",
       "      <td>Alok Ranjan</td>\n",
       "      <td>&lt;Media omitted&gt;</td>\n",
       "    </tr>\n",
       "    <tr>\n",
       "      <th>2</th>\n",
       "      <td>10/27/18, 5:01 PM</td>\n",
       "      <td>Alok Ranjan</td>\n",
       "      <td>Ek Yogi dusre Yogi ke saath</td>\n",
       "    </tr>\n",
       "    <tr>\n",
       "      <th>3</th>\n",
       "      <td>10/27/18, 5:01 PM</td>\n",
       "      <td>Alok Ranjan</td>\n",
       "      <td>Congrats Yogi Bhai!</td>\n",
       "    </tr>\n",
       "    <tr>\n",
       "      <th>4</th>\n",
       "      <td>10/27/18, 5:04 PM</td>\n",
       "      <td>IIFM PFM 03 Samir Stephan Kujur</td>\n",
       "      <td>👍👍👍</td>\n",
       "    </tr>\n",
       "  </tbody>\n",
       "</table>\n",
       "</div>"
      ],
      "text/plain": [
       "                 Date                            Texter  \\\n",
       "0  10/27/18, 5:01 PM                        Alok Ranjan   \n",
       "1  10/27/18, 5:01 PM                        Alok Ranjan   \n",
       "2  10/27/18, 5:01 PM                        Alok Ranjan   \n",
       "3  10/27/18, 5:01 PM                        Alok Ranjan   \n",
       "4  10/27/18, 5:04 PM    IIFM PFM 03 Samir Stephan Kujur   \n",
       "\n",
       "                        Content  \n",
       "0               <Media omitted>  \n",
       "1               <Media omitted>  \n",
       "2   Ek Yogi dusre Yogi ke saath  \n",
       "3           Congrats Yogi Bhai!  \n",
       "4                           👍👍👍  "
      ]
     },
     "execution_count": 83,
     "metadata": {},
     "output_type": "execute_result"
    }
   ],
   "source": [
    "df.head()"
   ]
  },
  {
   "cell_type": "code",
   "execution_count": 84,
   "metadata": {},
   "outputs": [],
   "source": [
    "#Remove all the emojis\n",
    "df['Content'] = df['Content'].str.replace('[^\\w\\s#@/:%.,_-]', '', flags=re.UNICODE)"
   ]
  },
  {
   "cell_type": "code",
   "execution_count": 85,
   "metadata": {},
   "outputs": [],
   "source": [
    "#Convert all the messages to lower case\n",
    "df[\"Content\"] = df[\"Content\"].str.lower()"
   ]
  },
  {
   "cell_type": "code",
   "execution_count": 86,
   "metadata": {},
   "outputs": [
    {
     "name": "stdout",
     "output_type": "stream",
     "text": [
      "<class 'pandas.core.frame.DataFrame'>\n",
      "RangeIndex: 1634 entries, 0 to 1633\n",
      "Data columns (total 3 columns):\n",
      " #   Column   Non-Null Count  Dtype \n",
      "---  ------   --------------  ----- \n",
      " 0   Date     1634 non-null   object\n",
      " 1   Texter   1634 non-null   object\n",
      " 2   Content  1626 non-null   object\n",
      "dtypes: object(3)\n",
      "memory usage: 38.4+ KB\n"
     ]
    }
   ],
   "source": [
    "df.info()"
   ]
  },
  {
   "cell_type": "code",
   "execution_count": 87,
   "metadata": {},
   "outputs": [],
   "source": [
    "#Replace the NA/NaN with empty string\n",
    "df.Content = df.Content.fillna('')"
   ]
  },
  {
   "cell_type": "code",
   "execution_count": 94,
   "metadata": {},
   "outputs": [
    {
     "data": {
      "text/html": [
       "<div>\n",
       "<style scoped>\n",
       "    .dataframe tbody tr th:only-of-type {\n",
       "        vertical-align: middle;\n",
       "    }\n",
       "\n",
       "    .dataframe tbody tr th {\n",
       "        vertical-align: top;\n",
       "    }\n",
       "\n",
       "    .dataframe thead th {\n",
       "        text-align: right;\n",
       "    }\n",
       "</style>\n",
       "<table border=\"1\" class=\"dataframe\">\n",
       "  <thead>\n",
       "    <tr style=\"text-align: right;\">\n",
       "      <th></th>\n",
       "      <th>Date</th>\n",
       "      <th>Texter</th>\n",
       "      <th>Content</th>\n",
       "    </tr>\n",
       "  </thead>\n",
       "  <tbody>\n",
       "    <tr>\n",
       "      <th>409</th>\n",
       "      <td>3/31/19, 6:34 AM</td>\n",
       "      <td>Alark Saxena | PFM03</td>\n",
       "      <td>happy birthday to aashish katara</td>\n",
       "    </tr>\n",
       "    <tr>\n",
       "      <th>412</th>\n",
       "      <td>3/31/19, 7:27 AM</td>\n",
       "      <td>Sudipto Ghosh | PFM03</td>\n",
       "      <td>happy birthday katara</td>\n",
       "    </tr>\n",
       "    <tr>\n",
       "      <th>415</th>\n",
       "      <td>3/31/19, 8:06 AM</td>\n",
       "      <td>Nishant Choudhary | PFM03</td>\n",
       "      <td>happy birthday dear ashish bhai....</td>\n",
       "    </tr>\n",
       "    <tr>\n",
       "      <th>417</th>\n",
       "      <td>3/31/19, 8:20 AM</td>\n",
       "      <td>Ankur Seth | PFM03</td>\n",
       "      <td>happy birthday katara.... enjoy the day</td>\n",
       "    </tr>\n",
       "    <tr>\n",
       "      <th>419</th>\n",
       "      <td>3/31/19, 8:23 AM</td>\n",
       "      <td>Priti Barman | PFM03</td>\n",
       "      <td>happy birthday katara</td>\n",
       "    </tr>\n",
       "    <tr>\n",
       "      <th>...</th>\n",
       "      <td>...</td>\n",
       "      <td>...</td>\n",
       "      <td>...</td>\n",
       "    </tr>\n",
       "    <tr>\n",
       "      <th>1620</th>\n",
       "      <td>5/20/20, 10:30 AM</td>\n",
       "      <td>Aman Gupta | PFM03</td>\n",
       "      <td>happy birthday deepak bhai</td>\n",
       "    </tr>\n",
       "    <tr>\n",
       "      <th>1623</th>\n",
       "      <td>5/20/20, 10:59 AM</td>\n",
       "      <td>+91 85059 46749</td>\n",
       "      <td>happy birthday nag</td>\n",
       "    </tr>\n",
       "    <tr>\n",
       "      <th>1626</th>\n",
       "      <td>5/20/20, 11:17 AM</td>\n",
       "      <td>Rachit Bansal | PFM03</td>\n",
       "      <td>nag wishing you a very happy birthday</td>\n",
       "    </tr>\n",
       "    <tr>\n",
       "      <th>1628</th>\n",
       "      <td>5/20/20, 11:41 AM</td>\n",
       "      <td>IIFM PFM 03 Vaibhav Chaturvedi</td>\n",
       "      <td>happy birthday darling deepak</td>\n",
       "    </tr>\n",
       "    <tr>\n",
       "      <th>1629</th>\n",
       "      <td>5/20/20, 11:48 AM</td>\n",
       "      <td>Anand Roomie | PFM03</td>\n",
       "      <td>happy bday deepak.</td>\n",
       "    </tr>\n",
       "  </tbody>\n",
       "</table>\n",
       "<p>199 rows × 3 columns</p>\n",
       "</div>"
      ],
      "text/plain": [
       "                    Date                           Texter  \\\n",
       "409    3/31/19, 6:34 AM              Alark Saxena | PFM03   \n",
       "412    3/31/19, 7:27 AM             Sudipto Ghosh | PFM03   \n",
       "415    3/31/19, 8:06 AM         Nishant Choudhary | PFM03   \n",
       "417    3/31/19, 8:20 AM                Ankur Seth | PFM03   \n",
       "419    3/31/19, 8:23 AM              Priti Barman | PFM03   \n",
       "...                  ...                              ...   \n",
       "1620  5/20/20, 10:30 AM                Aman Gupta | PFM03   \n",
       "1623  5/20/20, 10:59 AM                   +91 85059 46749   \n",
       "1626  5/20/20, 11:17 AM             Rachit Bansal | PFM03   \n",
       "1628  5/20/20, 11:41 AM    IIFM PFM 03 Vaibhav Chaturvedi   \n",
       "1629  5/20/20, 11:48 AM              Anand Roomie | PFM03   \n",
       "\n",
       "                                       Content  \n",
       "409         happy birthday to aashish katara    \n",
       "412                      happy birthday katara  \n",
       "415       happy birthday dear ashish bhai....   \n",
       "417    happy birthday katara.... enjoy the day  \n",
       "419                      happy birthday katara  \n",
       "...                                        ...  \n",
       "1620                happy birthday deepak bhai  \n",
       "1623                        happy birthday nag  \n",
       "1626     nag wishing you a very happy birthday  \n",
       "1628             happy birthday darling deepak  \n",
       "1629                        happy bday deepak.  \n",
       "\n",
       "[199 rows x 3 columns]"
      ]
     },
     "execution_count": 94,
     "metadata": {},
     "output_type": "execute_result"
    }
   ],
   "source": [
    "#Search the birthday string variations in the message/Content column\n",
    "df[df['Content'].str.contains('bday|birthday|hbd')]"
   ]
  },
  {
   "cell_type": "code",
   "execution_count": 95,
   "metadata": {},
   "outputs": [],
   "source": [
    "df1=df[df['Content'].str.contains('bday|birthday|hbd')]"
   ]
  },
  {
   "cell_type": "code",
   "execution_count": 96,
   "metadata": {},
   "outputs": [
    {
     "ename": "AttributeError",
     "evalue": "'str' object has no attribute 'date'",
     "output_type": "error",
     "traceback": [
      "\u001b[1;31m---------------------------------------------------------------------------\u001b[0m",
      "\u001b[1;31mAttributeError\u001b[0m                            Traceback (most recent call last)",
      "\u001b[1;32m<ipython-input-96-3479a726f242>\u001b[0m in \u001b[0;36m<module>\u001b[1;34m\u001b[0m\n\u001b[1;32m----> 1\u001b[1;33m \u001b[0mdf1\u001b[0m\u001b[1;33m[\u001b[0m\u001b[1;34m'new_date'\u001b[0m\u001b[1;33m]\u001b[0m \u001b[1;33m=\u001b[0m \u001b[1;33m[\u001b[0m\u001b[0md\u001b[0m\u001b[1;33m.\u001b[0m\u001b[0mdate\u001b[0m\u001b[1;33m(\u001b[0m\u001b[1;33m)\u001b[0m \u001b[1;32mfor\u001b[0m \u001b[0md\u001b[0m \u001b[1;32min\u001b[0m \u001b[0mdf1\u001b[0m\u001b[1;33m[\u001b[0m\u001b[1;34m'Date'\u001b[0m\u001b[1;33m]\u001b[0m\u001b[1;33m]\u001b[0m\u001b[1;33m\u001b[0m\u001b[1;33m\u001b[0m\u001b[0m\n\u001b[0m\u001b[0;32m      2\u001b[0m \u001b[0mdf1\u001b[0m\u001b[1;33m[\u001b[0m\u001b[1;34m'new_time'\u001b[0m\u001b[1;33m]\u001b[0m \u001b[1;33m=\u001b[0m \u001b[1;33m[\u001b[0m\u001b[0md\u001b[0m\u001b[1;33m.\u001b[0m\u001b[0mtime\u001b[0m\u001b[1;33m(\u001b[0m\u001b[1;33m)\u001b[0m \u001b[1;32mfor\u001b[0m \u001b[0md\u001b[0m \u001b[1;32min\u001b[0m \u001b[0mdf1\u001b[0m\u001b[1;33m[\u001b[0m\u001b[1;34m'Date'\u001b[0m\u001b[1;33m]\u001b[0m\u001b[1;33m]\u001b[0m\u001b[1;33m\u001b[0m\u001b[1;33m\u001b[0m\u001b[0m\n",
      "\u001b[1;32m<ipython-input-96-3479a726f242>\u001b[0m in \u001b[0;36m<listcomp>\u001b[1;34m(.0)\u001b[0m\n\u001b[1;32m----> 1\u001b[1;33m \u001b[0mdf1\u001b[0m\u001b[1;33m[\u001b[0m\u001b[1;34m'new_date'\u001b[0m\u001b[1;33m]\u001b[0m \u001b[1;33m=\u001b[0m \u001b[1;33m[\u001b[0m\u001b[0md\u001b[0m\u001b[1;33m.\u001b[0m\u001b[0mdate\u001b[0m\u001b[1;33m(\u001b[0m\u001b[1;33m)\u001b[0m \u001b[1;32mfor\u001b[0m \u001b[0md\u001b[0m \u001b[1;32min\u001b[0m \u001b[0mdf1\u001b[0m\u001b[1;33m[\u001b[0m\u001b[1;34m'Date'\u001b[0m\u001b[1;33m]\u001b[0m\u001b[1;33m]\u001b[0m\u001b[1;33m\u001b[0m\u001b[1;33m\u001b[0m\u001b[0m\n\u001b[0m\u001b[0;32m      2\u001b[0m \u001b[0mdf1\u001b[0m\u001b[1;33m[\u001b[0m\u001b[1;34m'new_time'\u001b[0m\u001b[1;33m]\u001b[0m \u001b[1;33m=\u001b[0m \u001b[1;33m[\u001b[0m\u001b[0md\u001b[0m\u001b[1;33m.\u001b[0m\u001b[0mtime\u001b[0m\u001b[1;33m(\u001b[0m\u001b[1;33m)\u001b[0m \u001b[1;32mfor\u001b[0m \u001b[0md\u001b[0m \u001b[1;32min\u001b[0m \u001b[0mdf1\u001b[0m\u001b[1;33m[\u001b[0m\u001b[1;34m'Date'\u001b[0m\u001b[1;33m]\u001b[0m\u001b[1;33m]\u001b[0m\u001b[1;33m\u001b[0m\u001b[1;33m\u001b[0m\u001b[0m\n",
      "\u001b[1;31mAttributeError\u001b[0m: 'str' object has no attribute 'date'"
     ]
    }
   ],
   "source": [
    "#df1['new_date'] = [d.date() for d in df1['Date']] # if the date column is timestamp\n",
    "#df1['new_time'] = [d.time() for d in df1['Date']] # if the date column is timestamp"
   ]
  },
  {
   "cell_type": "code",
   "execution_count": 97,
   "metadata": {},
   "outputs": [
    {
     "name": "stderr",
     "output_type": "stream",
     "text": [
      "c:\\users\\alokranjan\\appdata\\local\\programs\\python\\python37\\lib\\site-packages\\pandas\\core\\frame.py:2963: SettingWithCopyWarning: \n",
      "A value is trying to be set on a copy of a slice from a DataFrame.\n",
      "Try using .loc[row_indexer,col_indexer] = value instead\n",
      "\n",
      "See the caveats in the documentation: https://pandas.pydata.org/pandas-docs/stable/user_guide/indexing.html#returning-a-view-versus-a-copy\n",
      "  self[k1] = value[k2]\n"
     ]
    }
   ],
   "source": [
    "#Split the datetime column to date and time columns\n",
    "df1[['date','time']] = df1.Date.str.split(\",\",expand=True,) # split the date and time column to date and time"
   ]
  },
  {
   "cell_type": "code",
   "execution_count": 98,
   "metadata": {},
   "outputs": [
    {
     "data": {
      "text/html": [
       "<div>\n",
       "<style scoped>\n",
       "    .dataframe tbody tr th:only-of-type {\n",
       "        vertical-align: middle;\n",
       "    }\n",
       "\n",
       "    .dataframe tbody tr th {\n",
       "        vertical-align: top;\n",
       "    }\n",
       "\n",
       "    .dataframe thead th {\n",
       "        text-align: right;\n",
       "    }\n",
       "</style>\n",
       "<table border=\"1\" class=\"dataframe\">\n",
       "  <thead>\n",
       "    <tr style=\"text-align: right;\">\n",
       "      <th></th>\n",
       "      <th>Date</th>\n",
       "      <th>Texter</th>\n",
       "      <th>Content</th>\n",
       "      <th>date</th>\n",
       "      <th>time</th>\n",
       "    </tr>\n",
       "  </thead>\n",
       "  <tbody>\n",
       "    <tr>\n",
       "      <th>409</th>\n",
       "      <td>3/31/19, 6:34 AM</td>\n",
       "      <td>Alark Saxena | PFM03</td>\n",
       "      <td>happy birthday to aashish katara</td>\n",
       "      <td>3/31/19</td>\n",
       "      <td>6:34 AM</td>\n",
       "    </tr>\n",
       "    <tr>\n",
       "      <th>412</th>\n",
       "      <td>3/31/19, 7:27 AM</td>\n",
       "      <td>Sudipto Ghosh | PFM03</td>\n",
       "      <td>happy birthday katara</td>\n",
       "      <td>3/31/19</td>\n",
       "      <td>7:27 AM</td>\n",
       "    </tr>\n",
       "    <tr>\n",
       "      <th>415</th>\n",
       "      <td>3/31/19, 8:06 AM</td>\n",
       "      <td>Nishant Choudhary | PFM03</td>\n",
       "      <td>happy birthday dear ashish bhai....</td>\n",
       "      <td>3/31/19</td>\n",
       "      <td>8:06 AM</td>\n",
       "    </tr>\n",
       "    <tr>\n",
       "      <th>417</th>\n",
       "      <td>3/31/19, 8:20 AM</td>\n",
       "      <td>Ankur Seth | PFM03</td>\n",
       "      <td>happy birthday katara.... enjoy the day</td>\n",
       "      <td>3/31/19</td>\n",
       "      <td>8:20 AM</td>\n",
       "    </tr>\n",
       "    <tr>\n",
       "      <th>419</th>\n",
       "      <td>3/31/19, 8:23 AM</td>\n",
       "      <td>Priti Barman | PFM03</td>\n",
       "      <td>happy birthday katara</td>\n",
       "      <td>3/31/19</td>\n",
       "      <td>8:23 AM</td>\n",
       "    </tr>\n",
       "  </tbody>\n",
       "</table>\n",
       "</div>"
      ],
      "text/plain": [
       "                  Date                      Texter  \\\n",
       "409  3/31/19, 6:34 AM         Alark Saxena | PFM03   \n",
       "412  3/31/19, 7:27 AM        Sudipto Ghosh | PFM03   \n",
       "415  3/31/19, 8:06 AM    Nishant Choudhary | PFM03   \n",
       "417  3/31/19, 8:20 AM           Ankur Seth | PFM03   \n",
       "419  3/31/19, 8:23 AM         Priti Barman | PFM03   \n",
       "\n",
       "                                      Content     date       time  \n",
       "409        happy birthday to aashish katara    3/31/19   6:34 AM   \n",
       "412                     happy birthday katara  3/31/19   7:27 AM   \n",
       "415      happy birthday dear ashish bhai....   3/31/19   8:06 AM   \n",
       "417   happy birthday katara.... enjoy the day  3/31/19   8:20 AM   \n",
       "419                     happy birthday katara  3/31/19   8:23 AM   "
      ]
     },
     "execution_count": 98,
     "metadata": {},
     "output_type": "execute_result"
    }
   ],
   "source": [
    "df1.head()"
   ]
  },
  {
   "cell_type": "code",
   "execution_count": 100,
   "metadata": {},
   "outputs": [],
   "source": [
    "#Group by the date when birthday wishes were given and concate all the birthday wishes\n",
    "#A quick eyeball check of text would confirm that the date indeed is birthday of a person\n",
    "\n",
    "df2 = df1.groupby(['date'])['Content'].apply(','.join).reset_index()"
   ]
  },
  {
   "cell_type": "code",
   "execution_count": 102,
   "metadata": {},
   "outputs": [
    {
     "data": {
      "text/html": [
       "<div>\n",
       "<style scoped>\n",
       "    .dataframe tbody tr th:only-of-type {\n",
       "        vertical-align: middle;\n",
       "    }\n",
       "\n",
       "    .dataframe tbody tr th {\n",
       "        vertical-align: top;\n",
       "    }\n",
       "\n",
       "    .dataframe thead th {\n",
       "        text-align: right;\n",
       "    }\n",
       "</style>\n",
       "<table border=\"1\" class=\"dataframe\">\n",
       "  <thead>\n",
       "    <tr style=\"text-align: right;\">\n",
       "      <th></th>\n",
       "      <th>date</th>\n",
       "      <th>Content</th>\n",
       "    </tr>\n",
       "  </thead>\n",
       "  <tbody>\n",
       "    <tr>\n",
       "      <th>0</th>\n",
       "      <td>10/1/19</td>\n",
       "      <td>happy birthday shailesh , happy birthday bhol...</td>\n",
       "    </tr>\n",
       "    <tr>\n",
       "      <th>1</th>\n",
       "      <td>10/3/19</td>\n",
       "      <td>happy birthday anand, have an awesome day, ha...</td>\n",
       "    </tr>\n",
       "    <tr>\n",
       "      <th>2</th>\n",
       "      <td>10/4/19</td>\n",
       "      <td>happy birthday anand......, happy bday anand,...</td>\n",
       "    </tr>\n",
       "    <tr>\n",
       "      <th>3</th>\n",
       "      <td>11/16/19</td>\n",
       "      <td>oye,  tumhari nakli birthday ki bhi pictures ...</td>\n",
       "    </tr>\n",
       "    <tr>\n",
       "      <th>4</th>\n",
       "      <td>12/23/19</td>\n",
       "      <td>happy birthday rachit bhai , rachitaba ko dhe...</td>\n",
       "    </tr>\n",
       "    <tr>\n",
       "      <th>5</th>\n",
       "      <td>2/25/20</td>\n",
       "      <td>happy birthday ashu..  and many happy returns...</td>\n",
       "    </tr>\n",
       "    <tr>\n",
       "      <th>6</th>\n",
       "      <td>2/26/20</td>\n",
       "      <td>happy birthday ladoo, happy birthday, ankur, ...</td>\n",
       "    </tr>\n",
       "    <tr>\n",
       "      <th>7</th>\n",
       "      <td>2/28/20</td>\n",
       "      <td>happy birthday koyel.... have a wonderful day...</td>\n",
       "    </tr>\n",
       "    <tr>\n",
       "      <th>8</th>\n",
       "      <td>2/29/20</td>\n",
       "      <td>happy birthday koel, koyel wishing u a very h...</td>\n",
       "    </tr>\n",
       "    <tr>\n",
       "      <th>9</th>\n",
       "      <td>3/20/20</td>\n",
       "      <td>barru bhai..happy bday, happy birthday barru....</td>\n",
       "    </tr>\n",
       "    <tr>\n",
       "      <th>10</th>\n",
       "      <td>3/31/19</td>\n",
       "      <td>happy birthday to aashish katara  , happy bir...</td>\n",
       "    </tr>\n",
       "    <tr>\n",
       "      <th>11</th>\n",
       "      <td>4/1/20</td>\n",
       "      <td>happy birthday ashish bhai , happy birthday a...</td>\n",
       "    </tr>\n",
       "    <tr>\n",
       "      <th>12</th>\n",
       "      <td>4/20/20</td>\n",
       "      <td>wish you a blessed and wonderful birthday rav...</td>\n",
       "    </tr>\n",
       "    <tr>\n",
       "      <th>13</th>\n",
       "      <td>4/30/20</td>\n",
       "      <td>happy birthday rohini are you in delhi, happy...</td>\n",
       "    </tr>\n",
       "    <tr>\n",
       "      <th>14</th>\n",
       "      <td>5/20/20</td>\n",
       "      <td>happy birthday deepak, happy birthday deepak,...</td>\n",
       "    </tr>\n",
       "    <tr>\n",
       "      <th>15</th>\n",
       "      <td>5/5/20</td>\n",
       "      <td>happy birthday aiyush , many good wishes for ...</td>\n",
       "    </tr>\n",
       "    <tr>\n",
       "      <th>16</th>\n",
       "      <td>5/7/20</td>\n",
       "      <td>btw, my tithee birthday is on buddha purnima....</td>\n",
       "    </tr>\n",
       "    <tr>\n",
       "      <th>17</th>\n",
       "      <td>9/3/19</td>\n",
       "      <td>happy birthday yogi bhai, happy birthday yoge...</td>\n",
       "    </tr>\n",
       "    <tr>\n",
       "      <th>18</th>\n",
       "      <td>9/30/19</td>\n",
       "      <td>happy birthday shailesh , happy birthday sail...</td>\n",
       "    </tr>\n",
       "    <tr>\n",
       "      <th>19</th>\n",
       "      <td>9/4/19</td>\n",
       "      <td>happy birthday yogi bhai</td>\n",
       "    </tr>\n",
       "  </tbody>\n",
       "</table>\n",
       "</div>"
      ],
      "text/plain": [
       "        date                                            Content\n",
       "0    10/1/19   happy birthday shailesh , happy birthday bhol...\n",
       "1    10/3/19   happy birthday anand, have an awesome day, ha...\n",
       "2    10/4/19   happy birthday anand......, happy bday anand,...\n",
       "3   11/16/19   oye,  tumhari nakli birthday ki bhi pictures ...\n",
       "4   12/23/19   happy birthday rachit bhai , rachitaba ko dhe...\n",
       "5    2/25/20   happy birthday ashu..  and many happy returns...\n",
       "6    2/26/20   happy birthday ladoo, happy birthday, ankur, ...\n",
       "7    2/28/20   happy birthday koyel.... have a wonderful day...\n",
       "8    2/29/20   happy birthday koel, koyel wishing u a very h...\n",
       "9    3/20/20   barru bhai..happy bday, happy birthday barru....\n",
       "10   3/31/19   happy birthday to aashish katara  , happy bir...\n",
       "11    4/1/20   happy birthday ashish bhai , happy birthday a...\n",
       "12   4/20/20   wish you a blessed and wonderful birthday rav...\n",
       "13   4/30/20   happy birthday rohini are you in delhi, happy...\n",
       "14   5/20/20   happy birthday deepak, happy birthday deepak,...\n",
       "15    5/5/20   happy birthday aiyush , many good wishes for ...\n",
       "16    5/7/20   btw, my tithee birthday is on buddha purnima....\n",
       "17    9/3/19   happy birthday yogi bhai, happy birthday yoge...\n",
       "18   9/30/19   happy birthday shailesh , happy birthday sail...\n",
       "19    9/4/19                           happy birthday yogi bhai"
      ]
     },
     "execution_count": 102,
     "metadata": {},
     "output_type": "execute_result"
    }
   ],
   "source": [
    "df2"
   ]
  },
  {
   "cell_type": "code",
   "execution_count": 106,
   "metadata": {},
   "outputs": [],
   "source": [
    "df2.to_excel('pfm03bdays.xlsx') #export it to excel file. Need openpyxl module for it to work"
   ]
  },
  {
   "cell_type": "code",
   "execution_count": 105,
   "metadata": {},
   "outputs": [
    {
     "name": "stdout",
     "output_type": "stream",
     "text": [
      "Collecting openpyxl\n",
      "  Downloading https://files.pythonhosted.org/packages/95/8c/83563c60489954e5b80f9e2596b93a68e1ac4e4a730deb1aae632066d704/openpyxl-3.0.3.tar.gz (172kB)\n",
      "Collecting jdcal (from openpyxl)\n",
      "  Downloading https://files.pythonhosted.org/packages/f0/da/572cbc0bc582390480bbd7c4e93d14dc46079778ed915b505dc494b37c57/jdcal-1.4.1-py2.py3-none-any.whl\n",
      "Collecting et_xmlfile (from openpyxl)\n",
      "  Downloading https://files.pythonhosted.org/packages/22/28/a99c42aea746e18382ad9fb36f64c1c1f04216f41797f2f0fa567da11388/et_xmlfile-1.0.1.tar.gz\n",
      "Building wheels for collected packages: openpyxl, et-xmlfile\n",
      "  Building wheel for openpyxl (setup.py): started\n",
      "  Building wheel for openpyxl (setup.py): finished with status 'done'\n",
      "  Created wheel for openpyxl: filename=openpyxl-3.0.3-py2.py3-none-any.whl size=241265 sha256=f7bf358581f79cf3fa30f52203d1c59f0215ecc67bcd86fe1293674f9d461cc5\n",
      "  Stored in directory: C:\\Users\\alokranjan\\AppData\\Local\\pip\\Cache\\wheels\\b5\\85\\ca\\e768ac132e57e75e645a151f8badac71cc0089e7225dddf76b\n",
      "  Building wheel for et-xmlfile (setup.py): started\n",
      "  Building wheel for et-xmlfile (setup.py): finished with status 'done'\n",
      "  Created wheel for et-xmlfile: filename=et_xmlfile-1.0.1-cp37-none-any.whl size=8922 sha256=0334a0e1777e698ac4ef9fb525f4750a7b465f99dd5ebca71a5082d69b831353\n",
      "  Stored in directory: C:\\Users\\alokranjan\\AppData\\Local\\pip\\Cache\\wheels\\2a\\77\\35\\0da0965a057698121fc7d8c5a7a9955cdbfb3cc4e2423cad39\n",
      "Successfully built openpyxl et-xmlfile\n",
      "Installing collected packages: jdcal, et-xmlfile, openpyxl\n",
      "Successfully installed et-xmlfile-1.0.1 jdcal-1.4.1 openpyxl-3.0.3\n",
      "Note: you may need to restart the kernel to use updated packages.\n"
     ]
    },
    {
     "name": "stderr",
     "output_type": "stream",
     "text": [
      "WARNING: You are using pip version 19.2.3, however version 20.1 is available.\n",
      "You should consider upgrading via the 'python -m pip install --upgrade pip' command.\n"
     ]
    }
   ],
   "source": [
    "%pip install openpyxl -U #magic command to install this module from Jupyter notebook"
   ]
  },
  {
   "cell_type": "code",
   "execution_count": null,
   "metadata": {},
   "outputs": [],
   "source": []
  }
 ],
 "metadata": {
  "kernelspec": {
   "display_name": "Python 3",
   "language": "python",
   "name": "python3"
  },
  "language_info": {
   "codemirror_mode": {
    "name": "ipython",
    "version": 3
   },
   "file_extension": ".py",
   "mimetype": "text/x-python",
   "name": "python",
   "nbconvert_exporter": "python",
   "pygments_lexer": "ipython3",
   "version": "3.7.3"
  }
 },
 "nbformat": 4,
 "nbformat_minor": 2
}
